{
 "cells": [
  {
   "cell_type": "markdown",
   "metadata": {},
   "source": [
    "## Preprocessing data\n",
    "This class help to load and preprocess saved cars data"
   ]
  },
  {
   "cell_type": "code",
   "execution_count": null,
   "metadata": {
    "collapsed": true
   },
   "outputs": [],
   "source": [
    "import os, pickle, numpy as np\n",
    "from PIL import Image"
   ]
  },
  {
   "cell_type": "code",
   "execution_count": null,
   "metadata": {
    "collapsed": true
   },
   "outputs": [],
   "source": [
    "# make real directory path from list of folders\n",
    "def make_directory_path(*directories):\n",
    "    path = ''\n",
    "    for directory in directories:\n",
    "        path += directory.rstrip('/') + '/' # cut the \"/\" char from end of the string, then readd it\n",
    "    return path\n",
    "\n",
    "# Load pickle file\n",
    "def load_pickle(file_path):\n",
    "    with open(file_path, 'rb') as file:\n",
    "        return pickle.load(file)"
   ]
  },
  {
   "cell_type": "code",
   "execution_count": null,
   "metadata": {
    "collapsed": true
   },
   "outputs": [],
   "source": [
    "class data_preprocessor:\n",
    "    def __init__(self, main_dir, detail_ext='pkl', image_exts=['jpg','jpeg','png','bmp']):\n",
    "        self.main_dir = make_directory_path(main_dir)\n",
    "        self.detail_ext = detail_ext\n",
    "        self.image_exts = image_exts\n",
    "        self.load_in()\n",
    "    \n",
    "    def load_in(self):\n",
    "        # read all diretories from the main diretory\n",
    "        brands = [brand for brand in os.listdir(self.main_dir) if os.path.isdir(self.main_dir + brand)]\n",
    "\n",
    "        # Brands\n",
    "        cars_final = []\n",
    "        for brand in brands:\n",
    "            brand_dir = make_directory_path(self.main_dir, brand)\n",
    "            cars = [car for car in os.listdir(brand_dir) if os.path.isdir(brand_dir + car)]\n",
    "\n",
    "            # Cars\n",
    "            for car in cars:\n",
    "                car_dir = make_directory_path(brand_dir, car)\n",
    "                files = [file for file in os.listdir(car_dir) if not os.path.isdir(car_dir + file)]\n",
    "                \n",
    "                # Files\n",
    "                images = []\n",
    "                details_file = None\n",
    "                for file in files:\n",
    "                    file_path = car_dir + file\n",
    "                    extension = os.path.splitext(file)[1][1:].lower()\n",
    "                    if extension == self.detail_ext:\n",
    "                        details_file = file_path\n",
    "                    elif extension in self.image_exts:\n",
    "                        images.append(file_path)\n",
    "\n",
    "                if details_file != None:\n",
    "                    details = load_pickle(details_file)\n",
    "                    car_final = {'brand': brand.lower(), 'details': details, 'images': images}\n",
    "                    cars_final.append(car_final)\n",
    "        self.cars = cars_final\n",
    "        \n",
    "    def image_preprocess(self, file):\n",
    "        image = Image.open(file)\n",
    "        #image = image.resize((width, height), Image.ANTIALIAS)\n",
    "        image = image.convert('L') # convert image to greyscale\n",
    "        image = np.array(image)\n",
    "        image = np.uint8(image)\n",
    "        return image\n",
    "        \n",
    "    def stream(self, count, brands=None, with_images=True):\n",
    "        needed_details = [\n",
    "            {'key': 'ár (eur)', 'as': 'euro'},\n",
    "            {'key': 'kilométeróra állása', 'as': 'km'},\n",
    "            {'key': 'évjárat', 'as': 'year'},\n",
    "            {'key': 'üzemanyag', 'as': 'fuel'},\n",
    "        ]\n",
    "        i = 0\n",
    "        while True:\n",
    "            result = self.low_level_stream(i, count, needed_details, brands, with_images)\n",
    "            if result == False:\n",
    "                break\n",
    "            cars, i = result\n",
    "            for k in range(len(cars)):\n",
    "                \n",
    "                # format details\n",
    "                cars[k]['details']['euro'] = cars[k]['details']['euro'][2:].replace('.', '')\n",
    "                cars[k]['details']['km'] = cars[k]['details']['km'][:-3].replace(' ', '')\n",
    "                cars[k]['details']['year'] = cars[k]['details']['year'][0:4]\n",
    "                cars[k]['details']['fuel'] = cars[k]['details']['fuel'].lower()\n",
    "                \n",
    "            yield cars\n",
    "\n",
    "    def low_level_stream(self, i, count, needed_details, brands=None, with_images=True):\n",
    "        # return False if the iterator too big, it is useful in a while loop\n",
    "        if i >= len(self.cars):\n",
    "            return False\n",
    "        \n",
    "        if brands != None:\n",
    "            brands = [brand.lower() for brand in brands] # make brands lowercase\n",
    "            \n",
    "        cars = []\n",
    "        while len(cars) < count:\n",
    "            if i >= len(self.cars):\n",
    "                break\n",
    "                \n",
    "            car = self.cars[i]\n",
    "            if (brands == None or car['brand'] in brands) and (not with_images or len(car['images']) > 0):\n",
    "                details = dict()\n",
    "                details['brand'] = car['brand']\n",
    "                all_detail_exist = True\n",
    "                for needed_detail in needed_details:\n",
    "                    # check detail exist\n",
    "                    if needed_detail['key'] not in car['details']:\n",
    "                        all_detail_exist = False\n",
    "                        break\n",
    "                    details[ needed_detail['as'] ] = car['details'][ needed_detail['key'] ]\n",
    "\n",
    "                # append only if all needed detail exists\n",
    "                if all_detail_exist:\n",
    "                    result = dict()\n",
    "                    result['details'] = details\n",
    "                    if with_images:\n",
    "                        images = []\n",
    "                        for image in car['images']:\n",
    "                            images.append( self.image_preprocess(image) )\n",
    "                        result['images'] = images\n",
    "                    cars.append(result)\n",
    "            i += 1\n",
    "        return cars, i\n"
   ]
  },
  {
   "cell_type": "code",
   "execution_count": null,
   "metadata": {},
   "outputs": [],
   "source": [
    "directory = 'data'\n",
    "DP = data_preprocessor(directory)\n",
    "for cars in DP.stream(10):\n",
    "    print()\n",
    "    print(cars)\n",
    "    print()"
   ]
  }
 ],
 "metadata": {
  "kernelspec": {
   "display_name": "Python 3",
   "language": "python",
   "name": "python3"
  },
  "language_info": {
   "codemirror_mode": {
    "name": "ipython",
    "version": 3
   },
   "file_extension": ".py",
   "mimetype": "text/x-python",
   "name": "python",
   "nbconvert_exporter": "python",
   "pygments_lexer": "ipython3",
   "version": "3.6.1"
  }
 },
 "nbformat": 4,
 "nbformat_minor": 2
}
