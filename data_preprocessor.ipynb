{
 "cells": [
  {
   "cell_type": "markdown",
   "metadata": {},
   "source": [
    "## Preprocessing data\n",
    "This class help to load and preprocess saved cars data"
   ]
  },
  {
   "cell_type": "code",
   "execution_count": 1,
   "metadata": {
    "collapsed": true
   },
   "outputs": [],
   "source": [
    "import os, pickle"
   ]
  },
  {
   "cell_type": "code",
   "execution_count": 2,
   "metadata": {
    "collapsed": true
   },
   "outputs": [],
   "source": [
    "# make real directory path from list of folders\n",
    "def make_directory_path(*directories):\n",
    "    path = ''\n",
    "    for directory in directories:\n",
    "        path += directory.rstrip('/') + '/' # cut the \"/\" char from end of the string, then readd it\n",
    "    return path\n",
    "\n",
    "# Load pickle file\n",
    "def load_pickle(file_path):\n",
    "    with open(file_path, 'rb') as file:\n",
    "        return pickle.load(file)"
   ]
  },
  {
   "cell_type": "code",
   "execution_count": 3,
   "metadata": {},
   "outputs": [],
   "source": [
    "class data_preprocessor:\n",
    "    def __init__(self, main_dir, detail_ext='pkl', image_exts=['jpg','jpeg','png','bmp']):\n",
    "        self.main_dir = make_directory_path(main_dir)\n",
    "        self.detail_ext = detail_ext\n",
    "        self.image_exts = image_exts\n",
    "        self.load_in()\n",
    "    \n",
    "    def load_in(self):\n",
    "        # read all diretories from the main diretory\n",
    "        brands = [brand for brand in os.listdir(self.main_dir) if os.path.isdir(self.main_dir + brand)]\n",
    "\n",
    "        # Brands\n",
    "        brands_final = []\n",
    "        for brand in brands:\n",
    "            brand_dir = make_directory_path(self.main_dir, brand)\n",
    "            cars = [car for car in os.listdir(brand_dir) if os.path.isdir(brand_dir + car)]\n",
    "\n",
    "            # Cars\n",
    "            cars_final = []\n",
    "            for car in cars:\n",
    "                car_dir = make_directory_path(brand_dir, car)\n",
    "                files = [file for file in os.listdir(car_dir) if not os.path.isdir(car_dir + file)]\n",
    "                \n",
    "                # Files\n",
    "                images = []\n",
    "                details_file = None\n",
    "                for file in files:\n",
    "                    file_path = car_dir + file\n",
    "                    extension = os.path.splitext(file)[1][1:].lower()\n",
    "                    if extension == self.detail_ext:\n",
    "                        details_file = file_path\n",
    "                    elif extension in self.image_exts:\n",
    "                        images.append(file_path)\n",
    "\n",
    "                if details_file != None:\n",
    "                    details = load_pickle(details_file)\n",
    "                    car_final = {'details': details, 'images': images}\n",
    "                    cars_final.append(car_final)\n",
    "                    \n",
    "            if len(cars_final) > 0:\n",
    "                brand_final = {'brand': brand.lower(), 'cars': cars_final}\n",
    "                brands_final.append(brand_final)\n",
    "        self.brands = brands_final\n"
   ]
  },
  {
   "cell_type": "code",
   "execution_count": 4,
   "metadata": {},
   "outputs": [],
   "source": [
    "directory = 'data'\n",
    "DP = data_preprocessor(directory)\n",
    "DP.load_in()"
   ]
  }
 ],
 "metadata": {
  "kernelspec": {
   "display_name": "Python 3",
   "language": "python",
   "name": "python3"
  },
  "language_info": {
   "codemirror_mode": {
    "name": "ipython",
    "version": 3
   },
   "file_extension": ".py",
   "mimetype": "text/x-python",
   "name": "python",
   "nbconvert_exporter": "python",
   "pygments_lexer": "ipython3",
   "version": "3.6.1"
  }
 },
 "nbformat": 4,
 "nbformat_minor": 2
}
