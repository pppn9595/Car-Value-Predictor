{
 "cells": [
  {
   "cell_type": "code",
   "execution_count": null,
   "metadata": {},
   "outputs": [],
   "source": [
    "import keras\n",
    "from keras.models import Sequential\n",
    "from keras.layers import *\n",
    "import numpy as np\n",
    "\n",
    "class value_predictor_by_image:\n",
    "    def __init__(self, img_shape, weights_file = None, load_weights = False):\n",
    "        self.img_shape = img_shape # shape of the input image\n",
    "        self.weights_file = weights_file\n",
    "        self.build_model()\n",
    "        if load_weights:\n",
    "            self.load_weights() # load saved weights\n",
    "        self.compile()\n",
    "\n",
    "    def build_model(self):\n",
    "        self.model = Sequential([\n",
    "            Conv2D(32, kernel_size=(3, 3), activation='relu', input_shape=self.img_shape),\n",
    "            Conv2D(64, (3, 3), activation='relu'),\n",
    "            MaxPooling2D(pool_size=(2, 2)),\n",
    "            Dropout(0.25),\n",
    "            Flatten(),\n",
    "            Dense(128, activation='relu'),\n",
    "            Dropout(0.5),\n",
    "            Dense(self.classNum, activation='relu'),\n",
    "        ])\n",
    "\n",
    "    def compile(self):\n",
    "        self.model.compile(loss=keras.losses.mean_squared_error, optimizer=keras.optimizers.Adadelta(), metrics=['accuracy'])\n",
    "\n",
    "    # Predict one image's value\n",
    "    def predict(self, data):\n",
    "        data = self.format_array([data])\n",
    "        return self.model.predict(data, batch_size = 1)[0]\n",
    "\n",
    "    # Train the model\n",
    "    def train(self, datas, targets, epochs = 100, batchSize = 32):\n",
    "        datas = self.format_array(datas)\n",
    "        targets = self.format_array(targets)\n",
    "        self.model.fit(datas, targets, batch_size=batch_size, epochs=epochs, callbacks=None)\n",
    "\n",
    "    # Reshape the images to the right format\n",
    "    def format_array(self, array):\n",
    "        return np.reshape(array, [len(array), *self.img_shape]).astype('float32')\n",
    "\n",
    "    # Save weights\n",
    "    def save_model(self):\n",
    "        if self.weights_file != None:\n",
    "            self.model.save_weights(self.weights_file)\n",
    "\n",
    "    # Load weights\n",
    "    def load_model(self):\n",
    "        if self.weights_file != None and os.path.exists(self.weights_file):\n",
    "            self.model.load_weights(self.weights_file)\n",
    "            "
   ]
  },
  {
   "cell_type": "code",
   "execution_count": null,
   "metadata": {
    "collapsed": true
   },
   "outputs": [],
   "source": []
  }
 ],
 "metadata": {
  "kernelspec": {
   "display_name": "Python 3",
   "language": "python",
   "name": "python3"
  },
  "language_info": {
   "codemirror_mode": {
    "name": "ipython",
    "version": 3
   },
   "file_extension": ".py",
   "mimetype": "text/x-python",
   "name": "python",
   "nbconvert_exporter": "python",
   "pygments_lexer": "ipython3",
   "version": "3.6.1"
  }
 },
 "nbformat": 4,
 "nbformat_minor": 2
}
